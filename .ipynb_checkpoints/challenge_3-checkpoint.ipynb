{
 "cells": [
  {
   "cell_type": "markdown",
   "metadata": {},
   "source": [
    "# Capstone Project"
   ]
  },
  {
   "cell_type": "markdown",
   "metadata": {},
   "source": [
    "## Introduction/Business Problem"
   ]
  },
  {
   "cell_type": "markdown",
   "metadata": {},
   "source": [
    "It's not a rare situation when companies are doing relocation for their departements. For example, there are lots of software development companies that were moved from Ukraine to Canada. \n",
    "\n",
    "Moving employees from one city to another, companies need to guarantee the same level of comfort for their families. It's not always access to some shops and restaurants in the area: some people prefer to live in the country,but some people like to visit lots of places in their living area. So, the best place to live for one ftamily is not appropriate for another. \n",
    "\n",
    "Usually, people know where they want to live, but this knowledge is limited to their local city. Therefore, we want to build a model that companies will be able to use to recommend to their employees the best place to settle based on their current district/or any other favorite district in their native city. \n",
    "\n",
    "Right now, our company are doing relocation for a team from Toronto to New York. So, to guarantee smooth moving we will need help our team memebers to find the best area to live in New York that is similar to their living district in Toronto. So, our core task for these project split all districts from Toronto and New York in different bags (do clustering). All districts at the same bag are neighbors and if an employee live in a district A from bag B, we will be able to recommend to him/her all district in New York from the same bag B."
   ]
  },
  {
   "cell_type": "markdown",
   "metadata": {},
   "source": [
    "## Data"
   ]
  },
  {
   "cell_type": "markdown",
   "metadata": {},
   "source": [
    "There are several data sources that will be used for the project:\n",
    "\n",
    "- New York neighborhood names - https://geo.nyu.edu/catalog/nyu_2451_34572\n",
    "\n",
    "- Toronto Neighborhood Data - 'https://en.wikipedia.org/wiki/List_of_postal_codes_of_Canada:_M'\n",
    "\n",
    "To get additional information about Toronto and New York districs we are going to use Foursquare Location Data to grab information about top restaurants, community centers and other venues.\n",
    "\n",
    "There are some steps that we are going to do with data:\n",
    "\n",
    "- We are going to use New York and Toronto neighborhood names to prepare a dataset to be ready for Foursquare API applying. At least, we will need GPS coordinates for all  districts. There is no sense to split data in two separate datasets for New York and Toronto, but we need to store information about which district came from;\n",
    "\n",
    "- Once we have our initial data per district, we will need to choose top venues for each district. We believe that exactly top venues can uniquely identify a district. For example, there are less cinemas in the country. In order to find Top venue information we are going to use explore interface in Foursquare API;\n",
    "\n",
    "- Once all venues are identified, we will be able to make custering. It might be possible to see a situation when we don't have anything common between districts in Toronto and New York. In this case, we can reduce number of clusters or even make a decision to stay in Toronto. In the case, if we have lots of similarietis, we can increase number of clusters to provide more accurate data to our employees. "
   ]
  },
  {
   "cell_type": "markdown",
   "metadata": {},
   "source": [
    "## Methodology"
   ]
  },
  {
   "cell_type": "markdown",
   "metadata": {},
   "source": [
    "We are going to use K-Means clustering algorithm to split all districts in New York and Toronto alltogether in several clusters based on the most popular venues in Foursquare. Number of clusters cannot be recommended in advance and we might have potentially several cases:\n",
    "\n",
    "- some districts from Toronto are alone in a particular cluster: in this case we will need to decrease number of clusters to make recommendations exactly for these disctricts. All other districts from Toronto (that already have some areas from New York in their clusters) should be ignored because there recommendation is made already;\n",
    "- some districts from New York doesn't have any districts from Toronto in their clusters: these clusters might be ignored because we don't care about New York districts that are not similar to Toronto districts;\n",
    "- lots of districs from Toronto at the same clusters: in this case we need to increase number of clusters to make better splitting/recommendation for them. All districts from other clusters should be ignored because they already have recommendation;\n",
    "\n",
    "So, applying clustering algorithm several times changing number of clusters, we will be able to provide the best recommendation for all employees."
   ]
  },
  {
   "cell_type": "markdown",
   "metadata": {},
   "source": [
    "## Results"
   ]
  },
  {
   "cell_type": "markdown",
   "metadata": {},
   "source": [
    "In our research we used 12 districts from Etobicoke (Toronto area) and 40 districts from Manhattan (New York area). \n",
    "\n",
    "Running first clustering algorithm for 10 clusters we found that there are 7 clusters that contain just neightborhoods from Manhattan. It's not a problem and we can ignore these clusters on this step. But we could see that there are three custers that contains not just neightborhoods from Manhattan but from Etobicoke as well:\n",
    "- Items 4, 6 and 7 are in cluster 0\n",
    "- Items 2, 8 and 9 are in cluster 3\n",
    "- Items 5 and 11 are in cluster 5\n",
    "\n",
    "This split looks good, but we still have Items 0, 1, 3, 10 that are not in a good cluster (no New York elements). So, we need to rerun our clustering algorithm using smaller number of clusters.\n",
    "\n",
    "Running our algorithm with number of clusters is 7 we could find that Items 1, 3 and 10 are in the same cluster with an item from Manhattan (Roosevelt Island). So, we had just Item 0 in the list that moved to a \"good\" cluster when we could run the algorithm for 5 number of clusters.\n",
    "\n",
    "Therefore, we could build our recommendations running our algorithm three times. "
   ]
  },
  {
   "cell_type": "markdown",
   "metadata": {},
   "source": [
    "## Discussion"
   ]
  },
  {
   "cell_type": "markdown",
   "metadata": {},
   "source": [
    "Because, we have limited access to the Foursquare API, we had some limitations in the number of calls. In fact, we should not use just Manhattan. \n",
    "Of course, number of popular places that people are used to visit are important, but in order to improve our algorithm we have to add some additional data like:\n",
    "- rent cost to make sure that families have ability to use the same amount of money to live (of course, it will not work for Ukraine->USA movement, but it might work for Canada->USA);\n",
    "- time to commute;\n",
    "- car availability and access to public transportation;\n",
    "- schools \n",
    "and so on. \n",
    "\n",
    "Potentially, all these data may reduce number of choices in New York area, but it will improve quality. Now, it's to challenging to choose between 10-12 areas even all these areas are to close to your native one from venue perspective."
   ]
  },
  {
   "cell_type": "markdown",
   "metadata": {},
   "source": [
    "## Conclusion"
   ]
  },
  {
   "cell_type": "markdown",
   "metadata": {},
   "source": [
    "It's possible to use clustering to make recommendations to our employees about the best districts to move in a new city. At least, we could make this recommendation for people who are moving from Toronto to New York.  "
   ]
  },
  {
   "cell_type": "code",
   "execution_count": null,
   "metadata": {},
   "outputs": [],
   "source": []
  }
 ],
 "metadata": {
  "kernelspec": {
   "display_name": "Python [conda env:azuremlenv]",
   "language": "python",
   "name": "conda-env-azuremlenv-py"
  },
  "language_info": {
   "codemirror_mode": {
    "name": "ipython",
    "version": 3
   },
   "file_extension": ".py",
   "mimetype": "text/x-python",
   "name": "python",
   "nbconvert_exporter": "python",
   "pygments_lexer": "ipython3",
   "version": "3.6.6"
  }
 },
 "nbformat": 4,
 "nbformat_minor": 2
}
