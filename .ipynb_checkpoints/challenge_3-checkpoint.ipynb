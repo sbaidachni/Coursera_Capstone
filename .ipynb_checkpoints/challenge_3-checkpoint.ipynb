{
 "cells": [
  {
   "cell_type": "markdown",
   "metadata": {},
   "source": [
    "# Capstone Project"
   ]
  },
  {
   "cell_type": "markdown",
   "metadata": {},
   "source": [
    "## Introduction/Business Problem"
   ]
  },
  {
   "cell_type": "markdown",
   "metadata": {},
   "source": [
    "It's not a rare situation when companies are doing relocation for their departements. For example, there are lots of software development companies that were moved from Ukraine to Canada. \n",
    "\n",
    "Moving employees from one city to another, companies need to guarantee the same level of comfort for their families. It's not always access to some shops and restaurants in the area: some people prefer to live in the country,but some people like to visit lots of places in their living area. So, the best place to live for one ftamily is not appropriate for another. \n",
    "\n",
    "Usually, people know where they want to live, but this knowledge is limited to their local city. Therefore, we want to build a model that companies will be able to use to recommend to their employees the best place to settle based on their current district/or any other favorite district in their native city. \n",
    "\n",
    "Right now, our company are doing relocation for a team from Toronto to New York. So, to guarantee smooth moving we will need help our team memebers to find the best area to live in New York that is similar to their living district in Toronto. So, our core task for these project split all districts from Toronto and New York in different bags (do clustering). All districts at the same bag are neighbors and if an employee live in a district A from bag B, we will be able to recommend to him/her all district in New York from the same bag B."
   ]
  },
  {
   "cell_type": "markdown",
   "metadata": {},
   "source": [
    "## Data"
   ]
  },
  {
   "cell_type": "markdown",
   "metadata": {},
   "source": [
    "There are several data sources that will be used for the project:\n",
    "\n",
    "- New York neighborhood names - https://geo.nyu.edu/catalog/nyu_2451_34572\n",
    "\n",
    "- Toronto Neighborhood Data - 'https://en.wikipedia.org/wiki/List_of_postal_codes_of_Canada:_M'\n",
    "\n",
    "To get additional information about Toronto and New York districs we are going to use Foursquare Location Data to grab information about top restaurants, community centers and other venues.\n",
    "\n",
    "There are some steps that we are going to do with data:\n",
    "\n",
    "- We are going to use New York and Toronto neighborhood names to prepare a dataset to be ready for Foursquare API applying. At least, we will need GPS coordinates for all  districts. There is no sense to split data in two separate datasets for New York and Toronto, but we need to store information about which district came from;\n",
    "\n",
    "- Once we have our initial data per district, we will need to choose top venues for each district. We believe that exactly top venues can uniquely identify a district. For example, there are less cinemas in the country. In order to find Top venue information we are going to use explore interface in Foursquare API;\n",
    "\n",
    "- Once all venues are identified, we will be able to make custering. It might be possible to see a situation when we don't have anything common between districts in Toronto and New York. In this case, we can reduce number of clusters or even make a decision to stay in Toronto. In the case, if we have lots of similarietis, we can increase number of clusters to provide more accurate data to our employees. "
   ]
  },
  {
   "cell_type": "code",
   "execution_count": null,
   "metadata": {},
   "outputs": [],
   "source": []
  }
 ],
 "metadata": {
  "kernelspec": {
   "display_name": "Python [conda env:azuremlenv]",
   "language": "python",
   "name": "conda-env-azuremlenv-py"
  },
  "language_info": {
   "codemirror_mode": {
    "name": "ipython",
    "version": 3
   },
   "file_extension": ".py",
   "mimetype": "text/x-python",
   "name": "python",
   "nbconvert_exporter": "python",
   "pygments_lexer": "ipython3",
   "version": "3.6.6"
  }
 },
 "nbformat": 4,
 "nbformat_minor": 2
}
